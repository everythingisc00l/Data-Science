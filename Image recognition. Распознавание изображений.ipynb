{
 "cells": [
  {
   "cell_type": "markdown",
   "metadata": {},
   "source": [
    "## Image recognition. Распознавание изображений"
   ]
  },
  {
   "cell_type": "markdown",
   "metadata": {},
   "source": [
    "Используемые библиотеки: **TensorFlow** и **Matplotlib**"
   ]
  },
  {
   "cell_type": "markdown",
   "metadata": {},
   "source": [
    "В данном ноутбуке показан пример распознания изображений разных категорий. Для начала импортируем библиотеки."
   ]
  },
  {
   "cell_type": "code",
   "execution_count": 20,
   "metadata": {},
   "outputs": [],
   "source": [
    "import tensorflow as tf\n",
    "from tensorflow import keras\n",
    "from keras import datasets, layers, models\n",
    "import matplotlib.pyplot as plt\n",
    "from tensorflow.python.keras.models import Sequential"
   ]
  },
  {
   "cell_type": "markdown",
   "metadata": {},
   "source": [
    "Теперь загрузим тренировочный и тестовые датасеты"
   ]
  },
  {
   "cell_type": "code",
   "execution_count": 22,
   "metadata": {},
   "outputs": [],
   "source": [
    "(train_images, train_labels), (test_images, test_labels) = datasets.cifar10.load_data()\n",
    "\n",
    "train_images, test_images = train_images/255.0, test_images / 255.0"
   ]
  },
  {
   "cell_type": "code",
   "execution_count": 1,
   "metadata": {},
   "outputs": [
    {
     "ename": "NameError",
     "evalue": "name 'plt' is not defined",
     "output_type": "error",
     "traceback": [
      "\u001b[0;31m---------------------------------------------------------------------------\u001b[0m",
      "\u001b[0;31mNameError\u001b[0m                                 Traceback (most recent call last)",
      "\u001b[0;32m/var/folders/48/j_m26nf17c7dcsyl654c308r0000gn/T/ipykernel_14642/987059559.py\u001b[0m in \u001b[0;36m<module>\u001b[0;34m\u001b[0m\n\u001b[1;32m      1\u001b[0m \u001b[0mclass_names\u001b[0m \u001b[0;34m=\u001b[0m \u001b[0;34m[\u001b[0m\u001b[0;34m'самолет'\u001b[0m\u001b[0;34m,\u001b[0m \u001b[0;34m'автомобиль'\u001b[0m\u001b[0;34m,\u001b[0m \u001b[0;34m'птица'\u001b[0m\u001b[0;34m,\u001b[0m \u001b[0;34m'кошка'\u001b[0m\u001b[0;34m,\u001b[0m \u001b[0;34m'олень'\u001b[0m\u001b[0;34m,\u001b[0m \u001b[0;34m'собака'\u001b[0m\u001b[0;34m,\u001b[0m \u001b[0;34m'лягушка'\u001b[0m\u001b[0;34m,\u001b[0m \u001b[0;34m'лошадь'\u001b[0m\u001b[0;34m,\u001b[0m \u001b[0;34m'овца'\u001b[0m\u001b[0;34m,\u001b[0m \u001b[0;34m'грузовик'\u001b[0m\u001b[0;34m]\u001b[0m\u001b[0;34m\u001b[0m\u001b[0;34m\u001b[0m\u001b[0m\n\u001b[0;32m----> 2\u001b[0;31m \u001b[0mplt\u001b[0m\u001b[0;34m.\u001b[0m\u001b[0mfigure\u001b[0m\u001b[0;34m(\u001b[0m\u001b[0mfigsize\u001b[0m \u001b[0;34m=\u001b[0m \u001b[0;34m(\u001b[0m\u001b[0;36m10\u001b[0m\u001b[0;34m,\u001b[0m \u001b[0;36m10\u001b[0m\u001b[0;34m)\u001b[0m\u001b[0;34m)\u001b[0m\u001b[0;34m\u001b[0m\u001b[0;34m\u001b[0m\u001b[0m\n\u001b[0m\u001b[1;32m      3\u001b[0m \u001b[0;34m\u001b[0m\u001b[0m\n\u001b[1;32m      4\u001b[0m \u001b[0;31m# Выведем 25 изображений\u001b[0m\u001b[0;34m\u001b[0m\u001b[0;34m\u001b[0m\u001b[0m\n\u001b[1;32m      5\u001b[0m \u001b[0;32mfor\u001b[0m \u001b[0mi\u001b[0m \u001b[0;32min\u001b[0m \u001b[0mrange\u001b[0m \u001b[0;34m(\u001b[0m\u001b[0;36m25\u001b[0m\u001b[0;34m)\u001b[0m\u001b[0;34m:\u001b[0m\u001b[0;34m\u001b[0m\u001b[0;34m\u001b[0m\u001b[0m\n",
      "\u001b[0;31mNameError\u001b[0m: name 'plt' is not defined"
     ]
    }
   ],
   "source": [
    "class_names = ['самолет', 'автомобиль', 'птица', 'кошка', 'олень', 'собака', 'лягушка', 'лошадь', 'овца', 'грузовик']\n",
    "plt.figure(figsize = (10, 10))\n",
    "\n",
    "# Выведем 25 изображений \n",
    "for i in range (25):\n",
    "    plt.subplot(5,5, i+1)\n",
    "    \n",
    "    plt.xticks([])\n",
    "    plt.yticks([]) # отключаем отображение координат x,y чтобы было видно лучше изображение\n",
    "    \n",
    "    plt.grid(False) # отключаем сетку\n",
    "    plt.imshow(train_images[i], cmap = plt.cm.binary)\n",
    "    \n",
    "    plt.xlabel(class_names[train_labels[i][0]])\n",
    "plt.show()"
   ]
  },
  {
   "cell_type": "markdown",
   "metadata": {},
   "source": [
    "Добавляем в функцию фильтры (их 128 в этом примере) которые вычисляют собственные парамеры автоматически на базе тренировочных обозначений. В конечном итоге функции будут производить категоризацию валидационных изображений. \n",
    "\n",
    "Чтобы очистить тензоры от не цветовых значений которые не удалось нормализовать - привести к размеру от 0 до 255, мы используем параметр 'relu' - данный метод активации отсечет часть тензора которая не является числом в диапазоне от 0 до 1. Так мы получим набор только цветовых изображений пикселей. \n",
    "\n",
    "С помощью параметра input_shape мы определяем какого размера наше изображение, с помощью какой цветовой модели оно обозначается."
   ]
  },
  {
   "cell_type": "code",
   "execution_count": 24,
   "metadata": {},
   "outputs": [],
   "source": [
    "model = Sequential() # обозначим модель"
   ]
  },
  {
   "cell_type": "code",
   "execution_count": 25,
   "metadata": {},
   "outputs": [],
   "source": [
    "model.add(layers.Conv2D(32, (3,3), activation = 'relu', input_shape=(32,32,3))) # добавляем в модель слой сверточной двумерной сети\n",
    "model.add(layers.MaxPooling2D((2,2)))"
   ]
  },
  {
   "cell_type": "code",
   "execution_count": 26,
   "metadata": {},
   "outputs": [],
   "source": [
    "model.add(layers.Conv2D(64, (3,3), activation = 'relu'))\n",
    "model.add(layers.MaxPooling2D((2,2)))"
   ]
  },
  {
   "cell_type": "code",
   "execution_count": 27,
   "metadata": {},
   "outputs": [],
   "source": [
    "model.add(layers.Conv2D(128, (3,3), activation = 'relu'))"
   ]
  },
  {
   "cell_type": "code",
   "execution_count": 28,
   "metadata": {},
   "outputs": [],
   "source": [
    "model.build(input_shape=(None, 32,32,3))"
   ]
  },
  {
   "cell_type": "code",
   "execution_count": 29,
   "metadata": {},
   "outputs": [
    {
     "name": "stdout",
     "output_type": "stream",
     "text": [
      "Model: \"sequential_1\"\n",
      "_________________________________________________________________\n",
      "Layer (type)                 Output Shape              Param #   \n",
      "=================================================================\n",
      "module_wrapper_8 (ModuleWrap (None, 30, 30, 32)        896       \n",
      "_________________________________________________________________\n",
      "module_wrapper_9 (ModuleWrap (None, 15, 15, 32)        0         \n",
      "_________________________________________________________________\n",
      "module_wrapper_10 (ModuleWra (None, 13, 13, 64)        18496     \n",
      "_________________________________________________________________\n",
      "module_wrapper_11 (ModuleWra (None, 6, 6, 64)          0         \n",
      "_________________________________________________________________\n",
      "module_wrapper_12 (ModuleWra (None, 4, 4, 128)         73856     \n",
      "=================================================================\n",
      "Total params: 93,248\n",
      "Trainable params: 93,248\n",
      "Non-trainable params: 0\n",
      "_________________________________________________________________\n"
     ]
    }
   ],
   "source": [
    "model.summary()\n"
   ]
  },
  {
   "cell_type": "markdown",
   "metadata": {},
   "source": [
    "Теперь преобразуем набор пикселей изображений размером 32х32 в одномерный массив, выстроим их в \"ряд\".\n"
   ]
  },
  {
   "cell_type": "code",
   "execution_count": 30,
   "metadata": {},
   "outputs": [
    {
     "name": "stdout",
     "output_type": "stream",
     "text": [
      "Model: \"sequential_1\"\n",
      "_________________________________________________________________\n",
      "Layer (type)                 Output Shape              Param #   \n",
      "=================================================================\n",
      "module_wrapper_8 (ModuleWrap (None, 30, 30, 32)        896       \n",
      "_________________________________________________________________\n",
      "module_wrapper_9 (ModuleWrap (None, 15, 15, 32)        0         \n",
      "_________________________________________________________________\n",
      "module_wrapper_10 (ModuleWra (None, 13, 13, 64)        18496     \n",
      "_________________________________________________________________\n",
      "module_wrapper_11 (ModuleWra (None, 6, 6, 64)          0         \n",
      "_________________________________________________________________\n",
      "module_wrapper_12 (ModuleWra (None, 4, 4, 128)         73856     \n",
      "_________________________________________________________________\n",
      "module_wrapper_13 (ModuleWra (None, 2048)              0         \n",
      "_________________________________________________________________\n",
      "module_wrapper_14 (ModuleWra (None, 64)                131136    \n",
      "_________________________________________________________________\n",
      "module_wrapper_15 (ModuleWra (None, 10)                650       \n",
      "=================================================================\n",
      "Total params: 225,034\n",
      "Trainable params: 225,034\n",
      "Non-trainable params: 0\n",
      "_________________________________________________________________\n"
     ]
    }
   ],
   "source": [
    "model.add(layers.Flatten())\n",
    "model.add(layers.Dense(64, activation = 'relu'))\n",
    "model.add(layers.Dense(10))\n",
    "model.summary()"
   ]
  },
  {
   "cell_type": "markdown",
   "metadata": {},
   "source": [
    "Мы добавили два полносвязных слоя к этой моделе - они отображаются двумя последними строками этой таблицы. Кол-во параметров увеличилось."
   ]
  },
  {
   "cell_type": "markdown",
   "metadata": {},
   "source": [
    "Соберем модель. Для этого нам понадабиться функция потерь и функция-оптимизатор.\n",
    "\n",
    "Функция оптимизатор - переопределяет параметры тех самых 128 функций-фильтраторов, а с помощью Функции потерь мы узнаем точность распознования тестовых изображений."
   ]
  },
  {
   "cell_type": "code",
   "execution_count": 31,
   "metadata": {},
   "outputs": [
    {
     "name": "stdout",
     "output_type": "stream",
     "text": [
      "Epoch 1/10\n",
      "1563/1563 [==============================] - 67s 43ms/step - loss: 1.4625 - accuracy: 0.4687 - val_loss: 1.2390 - val_accuracy: 0.5525\n",
      "Epoch 2/10\n",
      "1563/1563 [==============================] - 58s 37ms/step - loss: 1.0743 - accuracy: 0.6220 - val_loss: 1.0321 - val_accuracy: 0.6343\n",
      "Epoch 3/10\n",
      "1563/1563 [==============================] - 57s 37ms/step - loss: 0.9143 - accuracy: 0.6803 - val_loss: 0.9670 - val_accuracy: 0.6656\n",
      "Epoch 4/10\n",
      "1563/1563 [==============================] - 56s 36ms/step - loss: 0.8202 - accuracy: 0.7123 - val_loss: 0.9268 - val_accuracy: 0.6877\n",
      "Epoch 5/10\n",
      "1563/1563 [==============================] - 58s 37ms/step - loss: 0.7467 - accuracy: 0.7391 - val_loss: 0.8312 - val_accuracy: 0.7175\n",
      "Epoch 6/10\n",
      "1563/1563 [==============================] - 56s 36ms/step - loss: 0.6745 - accuracy: 0.7631 - val_loss: 0.8562 - val_accuracy: 0.7124\n",
      "Epoch 7/10\n",
      "1563/1563 [==============================] - 58s 37ms/step - loss: 0.6183 - accuracy: 0.7853 - val_loss: 0.8865 - val_accuracy: 0.7136\n",
      "Epoch 8/10\n",
      "1563/1563 [==============================] - 56s 36ms/step - loss: 0.5648 - accuracy: 0.8013 - val_loss: 0.8894 - val_accuracy: 0.7118\n",
      "Epoch 9/10\n",
      "1563/1563 [==============================] - 56s 36ms/step - loss: 0.5193 - accuracy: 0.8163 - val_loss: 0.8997 - val_accuracy: 0.7163\n",
      "Epoch 10/10\n",
      "1563/1563 [==============================] - 57s 37ms/step - loss: 0.4773 - accuracy: 0.8322 - val_loss: 0.9374 - val_accuracy: 0.7078\n"
     ]
    }
   ],
   "source": [
    "model.compile(optimizer = 'adam',\n",
    "              loss = tf.keras.losses.SparseCategoricalCrossentropy(from_logits = True),\n",
    "              metrics = ['accuracy']) # Параметр metrics позволяет определить как часто нейросеть будет правильно категоризировать изображение, относительно их настоящих ярлыков.\n",
    "\n",
    "history = model.fit(train_images, train_labels, epochs = 10, validation_data = (test_images, test_labels)) # Скормим нейросети датасет в 10 этапов чтобы улучшить точность\n"
   ]
  },
  {
   "cell_type": "markdown",
   "metadata": {},
   "source": [
    "Параметры **loss** и **accuracy** харакетиризуют параметры обучения."
   ]
  },
  {
   "cell_type": "markdown",
   "metadata": {},
   "source": [
    "**validation_loss** - потери, **val_accuracy** - точность обучения"
   ]
  },
  {
   "cell_type": "markdown",
   "metadata": {},
   "source": [
    "В итоге можно построить график скорости и качества обучения."
   ]
  },
  {
   "cell_type": "code",
   "execution_count": 32,
   "metadata": {},
   "outputs": [
    {
     "data": {
      "text/plain": [
       "<matplotlib.legend.Legend at 0x13feea6a0>"
      ]
     },
     "execution_count": 32,
     "metadata": {},
     "output_type": "execute_result"
    },
    {
     "data": {
      "image/png": "[encoded data removed]",
      "text/plain": [
       "<Figure size 432x288 with 1 Axes>"
      ]
     },
     "metadata": {
      "needs_background": "light"
     },
     "output_type": "display_data"
    }
   ],
   "source": [
    "plt.plot(history.history['accuracy'], label = 'точность')\n",
    "plt.plot(history.history['val_accuracy'], label = 'точность проверки')\n",
    "\n",
    "# Задаем названия осям х и у\n",
    "plt.xlabel('Эпоха')\n",
    "plt.ylabel('Точность')\n",
    "\n",
    "# Зададим пограничные значения осей координат, чтобы график был более наглядный\n",
    "plt.ylim([0.5, 1])\n",
    "plt.legend(loc = 'lower right') # Расположение легенды на графике - внизу слева."
   ]
  },
  {
   "cell_type": "markdown",
   "metadata": {},
   "source": [
    "Вывод: точность распознавания изображений составяет 0.83"
   ]
  }
 ],
 "metadata": {
  "kernelspec": {
   "display_name": "Python 3.9.7 ('base')",
   "language": "python",
   "name": "python3"
  },
  "language_info": {
   "codemirror_mode": {
    "name": "ipython",
    "version": 3
   },
   "file_extension": ".py",
   "mimetype": "text/x-python",
   "name": "python",
   "nbconvert_exporter": "python",
   "pygments_lexer": "ipython3",
   "version": "3.9.7"
  },
  "orig_nbformat": 4,
  "vscode": {
   "interpreter": {
    "hash": "0662d772e4d96da94963bb0c189860197b835c8b87df5ce7cbe7e7b0dcc989db"
   }
  }
 },
 "nbformat": 4,
 "nbformat_minor": 2
}

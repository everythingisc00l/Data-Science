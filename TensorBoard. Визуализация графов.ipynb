{
 "cells": [
  {
   "cell_type": "markdown",
   "metadata": {},
   "source": [
    "### TensorBoard. Визуализация графов. Изменение скорости обучения. "
   ]
  },
  {
   "cell_type": "code",
   "execution_count": 11,
   "metadata": {},
   "outputs": [],
   "source": [
    "import tensorflow as tf\n",
    "from packaging import version\n",
    "from datetime import datetime\n",
    "from tensorflow import keras\n",
    "from tensorflow.python.keras.models import Sequential\n",
    "from keras import datasets, layers, models"
   ]
  },
  {
   "cell_type": "markdown",
   "metadata": {},
   "source": [
    "Импортируем Tensorboard и определим версию плагина, затем очистим директории от логов предыдущих сессий (если таковые имеются)"
   ]
  },
  {
   "cell_type": "code",
   "execution_count": 13,
   "metadata": {},
   "outputs": [
    {
     "data": {
      "text/plain": [
       "'2.9.1'"
      ]
     },
     "execution_count": 13,
     "metadata": {},
     "output_type": "execute_result"
    }
   ],
   "source": [
    "import tensorboard\n",
    "tensorboard.__version__"
   ]
  },
  {
   "cell_type": "code",
   "execution_count": 14,
   "metadata": {},
   "outputs": [
    {
     "name": "stdout",
     "output_type": "stream",
     "text": [
      "rm: illegal option -- .\n",
      "usage: rm [-f | -i] [-dPRrvW] file ...\n",
      "       unlink file\n"
     ]
    }
   ],
   "source": [
    "!rm -rf. /logs/"
   ]
  },
  {
   "cell_type": "markdown",
   "metadata": {},
   "source": [
    "Теперь описываем модель keras для обучения. Сделаем слои плоскими."
   ]
  },
  {
   "cell_type": "code",
   "execution_count": 15,
   "metadata": {},
   "outputs": [],
   "source": [
    "model = Sequential([\n",
    "    keras.layers.Flatten(input_shape = (28, 28)),\n",
    "    keras.layers.Dense(32, activation = 'relu'),\n",
    "    keras.layers.Dropout(0.2),\n",
    "    keras.layers.Dense(10, activation = 'softmax')\n",
    "])\n",
    "\n",
    "model.compile(\n",
    "    optimizer = 'adam',\n",
    "    loss = 'sparse_categorical_crossentropy',\n",
    "    metrics = ['accuracy'])"
   ]
  },
  {
   "cell_type": "markdown",
   "metadata": {},
   "source": [
    "Здесь мы задали размер изображений 28 х 28, затем добавили полносвязный слой размерности 32. Далее задали выброс чтобы исключить переобучение (эффект, при котором точность валидации ниже точности обучения, возникает когда данных слишком много). Выделим 20% данных **keras.layers.Dropout(0.2)**. Добавим второй полносвязный слой и используем метод активации **'softmax'**."
   ]
  },
  {
   "cell_type": "markdown",
   "metadata": {},
   "source": [
    "Типов одежды у нас 10. Нейросеть будет работать как фильтр - принимать изображение 28 х 28 и делать вывод, к какой категории относится то или иное изображение."
   ]
  },
  {
   "cell_type": "markdown",
   "metadata": {},
   "source": [
    "Теперь разделим датасет на тренировочную и валидационную часть с помощью множественного присваивания. Нормализуем данные разделив значения на 255. Поскольку мы используем изображения, то описываются они как последовательность пикселей в цветовой модели RGB - каждый пиксель описывается в три числа в диапазоне от 0 до 255, потому и делим все на 255, чтобы привести к диапазону от 0 до 1. Это называется нормализация. С таким форматом данных нейросеть далее и будет работать."
   ]
  },
  {
   "cell_type": "code",
   "execution_count": 16,
   "metadata": {},
   "outputs": [],
   "source": [
    "(train_images, train_labels), _= keras.datasets.fashion_mnist.load_data()\n",
    "\n",
    "train_images = train_images / 255.0"
   ]
  },
  {
   "cell_type": "markdown",
   "metadata": {},
   "source": [
    "Теперь задаем директорую для хранения логов мини-отчетов обучения. Используем"
   ]
  },
  {
   "cell_type": "code",
   "execution_count": 19,
   "metadata": {},
   "outputs": [
    {
     "name": "stdout",
     "output_type": "stream",
     "text": [
      "WARNING:tensorflow:Model failed to serialize as JSON. Ignoring... Layer ModuleWrapper has arguments in `__init__` and therefore must override `get_config`.\n",
      "Epoch 1/5\n",
      "938/938 [==============================] - 2s 2ms/step - loss: 0.7072 - accuracy: 0.7549\n",
      "Epoch 2/5\n",
      "938/938 [==============================] - 2s 2ms/step - loss: 0.4903 - accuracy: 0.8269\n",
      "Epoch 3/5\n",
      "938/938 [==============================] - 2s 2ms/step - loss: 0.4489 - accuracy: 0.8407: 1s -\n",
      "Epoch 4/5\n",
      "938/938 [==============================] - 2s 2ms/step - loss: 0.4251 - accuracy: 0.8486\n",
      "Epoch 5/5\n",
      "938/938 [==============================] - 2s 3ms/step - loss: 0.4121 - accuracy: 0.8516: 0s - loss: 0.4114 - accura\n"
     ]
    },
    {
     "data": {
      "text/plain": [
       "<tensorflow.python.keras.callbacks.History at 0x16783ec70>"
      ]
     },
     "execution_count": 19,
     "metadata": {},
     "output_type": "execute_result"
    }
   ],
   "source": [
    "logdir = 'logs/fit' + datetime.now().strftime('%Y%m%d-%H%m%S')\n",
    "tensorboard_callback = keras.callbacks.TensorBoard(log_dir=logdir)\n",
    "\n",
    "model.fit(\n",
    "    train_images,\n",
    "    train_labels,\n",
    "    batch_size = 64,\n",
    "    epochs = 5,\n",
    "    callbacks = [tensorboard_callback]\n",
    ")\n"
   ]
  },
  {
   "cell_type": "code",
   "execution_count": 22,
   "metadata": {},
   "outputs": [
    {
     "name": "stderr",
     "output_type": "stream",
     "text": [
      "UsageError: Line magic function `%tensorboard` not found.\n"
     ]
    }
   ],
   "source": [
    "%tensorboard --logdir logs"
   ]
  },
  {
   "cell_type": "code",
   "execution_count": 25,
   "metadata": {},
   "outputs": [],
   "source": [
    "@tf.function\n",
    "def my_func(x,y):\n",
    "    return tf.nn.relu(tf.matmul(x,y))\n",
    "\n",
    "stamp = datetime.now().strftime('%Y%m%d-%H%m%S')\n",
    "logdir = 'logs/func/%s' % stamp\n",
    "writer = tf.summary.create_file_writer(logdir)\n",
    "\n",
    "x = tf.random.uniform((3,3))\n",
    "y = tf.random.uniform((3,3))"
   ]
  },
  {
   "cell_type": "code",
   "execution_count": 26,
   "metadata": {},
   "outputs": [
    {
     "name": "stdout",
     "output_type": "stream",
     "text": [
      "WARNING:tensorflow:From /Users/artem/opt/anaconda3/lib/python3.9/site-packages/tensorflow/python/ops/summary_ops_v2.py:1332: start (from tensorflow.python.eager.profiler) is deprecated and will be removed after 2020-07-01.\n",
      "Instructions for updating:\n",
      "use `tf.profiler.experimental.start` instead.\n",
      "WARNING:tensorflow:From /Users/artem/opt/anaconda3/lib/python3.9/site-packages/tensorflow/python/ops/summary_ops_v2.py:1383: stop (from tensorflow.python.eager.profiler) is deprecated and will be removed after 2020-07-01.\n",
      "Instructions for updating:\n",
      "use `tf.profiler.experimental.stop` instead.\n",
      "WARNING:tensorflow:From /Users/artem/opt/anaconda3/lib/python3.9/site-packages/tensorflow/python/ops/summary_ops_v2.py:1383: save (from tensorflow.python.eager.profiler) is deprecated and will be removed after 2020-07-01.\n",
      "Instructions for updating:\n",
      "`tf.python.eager.profiler` has deprecated, use `tf.profiler` instead.\n",
      "WARNING:tensorflow:From /Users/artem/opt/anaconda3/lib/python3.9/site-packages/tensorflow/python/eager/profiler.py:150: maybe_create_event_file (from tensorflow.python.eager.profiler) is deprecated and will be removed after 2020-07-01.\n",
      "Instructions for updating:\n",
      "`tf.python.eager.profiler` has deprecated, use `tf.profiler` instead.\n"
     ]
    },
    {
     "name": "stderr",
     "output_type": "stream",
     "text": [
      "2022-07-18 22:39:43.766832: I tensorflow/core/profiler/lib/profiler_session.cc:99] Profiler session initializing.\n",
      "2022-07-18 22:39:43.767906: I tensorflow/core/profiler/lib/profiler_session.cc:114] Profiler session started.\n",
      "2022-07-18 22:39:43.931809: I tensorflow/core/profiler/lib/profiler_session.cc:66] Profiler session collecting data.\n",
      "2022-07-18 22:39:43.949343: I tensorflow/core/profiler/lib/profiler_session.cc:126] Profiler session tear down.\n"
     ]
    }
   ],
   "source": [
    "tf.summary.trace_on(graph = True, profiler = True)\n",
    "z = my_func(x,y)\n",
    "\n",
    "with writer.as_default():\n",
    "    tf.summary.trace_export(\n",
    "        name = 'my_func_trace',\n",
    "        step = 0,\n",
    "        profiler_outdir = logdir\n",
    "    )"
   ]
  },
  {
   "cell_type": "code",
   "execution_count": 27,
   "metadata": {},
   "outputs": [
    {
     "name": "stderr",
     "output_type": "stream",
     "text": [
      "UsageError: Line magic function `%tensorboard` not found.\n"
     ]
    }
   ],
   "source": [
    "%tensorboard --logdir logs/func"
   ]
  },
  {
   "cell_type": "code",
   "execution_count": null,
   "metadata": {},
   "outputs": [],
   "source": []
  }
 ],
 "metadata": {
  "kernelspec": {
   "display_name": "Python 3.9.7 ('base')",
   "language": "python",
   "name": "python3"
  },
  "language_info": {
   "codemirror_mode": {
    "name": "ipython",
    "version": 3
   },
   "file_extension": ".py",
   "mimetype": "text/x-python",
   "name": "python",
   "nbconvert_exporter": "python",
   "pygments_lexer": "ipython3",
   "version": "3.9.7"
  },
  "orig_nbformat": 4,
  "vscode": {
   "interpreter": {
    "hash": "0662d772e4d96da94963bb0c189860197b835c8b87df5ce7cbe7e7b0dcc989db"
   }
  }
 },
 "nbformat": 4,
 "nbformat_minor": 2
}

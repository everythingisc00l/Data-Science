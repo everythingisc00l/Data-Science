{
 "cells": [
  {
   "cell_type": "markdown",
   "metadata": {},
   "source": [
    "### PyTorch. Введение"
   ]
  },
  {
   "cell_type": "markdown",
   "metadata": {},
   "source": [
    "Переменная в PyTorch - это такая переменная, которая содержит в себе тензор (многомерный массив чисел)."
   ]
  },
  {
   "cell_type": "markdown",
   "metadata": {},
   "source": [
    "Тензоры бывают 5 типов:\n",
    "\n",
    "FloatTensor: 32-битное число с плавающей запятой\n",
    "\n",
    "DoubleTensor: 64-битное число с плавающей запятой\n",
    "\n",
    "HalfTensor: 16-битное число с плавающей запятой\n",
    "\n",
    "IntTensor: 32-битное целое\n",
    "\n",
    "LongTensor: 64-битное целое"
   ]
  },
  {
   "cell_type": "code",
   "execution_count": 15,
   "metadata": {},
   "outputs": [
    {
     "name": "stdout",
     "output_type": "stream",
     "text": [
      "False\n",
      "tensor([[0.4197, 0.1851],\n",
      "        [0.0875, 0.9346]])\n"
     ]
    }
   ],
   "source": [
    "import torch\n",
    "import torchvision\n",
    "from torchvision import transforms\n",
    "print(torch.cuda.is_available())\n",
    "print(torch.rand(2,2))"
   ]
  },
  {
   "cell_type": "markdown",
   "metadata": {},
   "source": [
    "PyTorch использует FloatTensor тип по умолчанию для всех тензоров. Чтобы это изменить, можно воспользоваться:"
   ]
  },
  {
   "cell_type": "code",
   "execution_count": 17,
   "metadata": {},
   "outputs": [
    {
     "data": {
      "text/plain": [
       "<function torch.set_default_tensor_type(t)>"
      ]
     },
     "execution_count": 17,
     "metadata": {},
     "output_type": "execute_result"
    }
   ],
   "source": [
    "torch.set_default_tensor_type"
   ]
  },
  {
   "cell_type": "code",
   "execution_count": 18,
   "metadata": {},
   "outputs": [],
   "source": [
    "# инициализация тензоров \n",
    "a = torch.tensor (2) \n",
    "b = torch.tensor (1)"
   ]
  },
  {
   "cell_type": "markdown",
   "metadata": {},
   "source": [
    "Тензоры можно использовать, как и другие числовые типы, в простых математических операциях."
   ]
  },
  {
   "cell_type": "code",
   "execution_count": 20,
   "metadata": {},
   "outputs": [
    {
     "name": "stdout",
     "output_type": "stream",
     "text": [
      "tensor(3)\n",
      "tensor(-1)\n",
      "tensor(2)\n",
      "tensor(2.)\n"
     ]
    }
   ],
   "source": [
    "# сложение \n",
    "print (a + b) \n",
    "# вычитание \n",
    "print (b - a) \n",
    "# умножение \n",
    "print (a * b) \n",
    "# деление \n",
    "print (a / b)"
   ]
  },
  {
   "cell_type": "markdown",
   "metadata": {},
   "source": [
    "Поскольку тензоры в PyTorch являются матрицами, вы можете установить тензоры для представления таблицы чисел. Здесь мы указываем, что наш тензор должен быть квадратом 2x2. Квадрат заполняется либо всеми единицами при использовании ones() функции, либо случайными числами при использовании rand() функции."
   ]
  },
  {
   "cell_type": "code",
   "execution_count": 21,
   "metadata": {},
   "outputs": [],
   "source": [
    "ones_tensor = torch.ones ((2, 2)) # тензор, содержащий все единицы \n",
    "rand_tensor = torch.rand ((2, 2)) # тензор, содержащий случайные значения"
   ]
  },
  {
   "cell_type": "code",
   "execution_count": null,
   "metadata": {},
   "outputs": [],
   "source": []
  }
 ],
 "metadata": {
  "kernelspec": {
   "display_name": "Python 3.9.7 ('base')",
   "language": "python",
   "name": "python3"
  },
  "language_info": {
   "codemirror_mode": {
    "name": "ipython",
    "version": 3
   },
   "file_extension": ".py",
   "mimetype": "text/x-python",
   "name": "python",
   "nbconvert_exporter": "python",
   "pygments_lexer": "ipython3",
   "version": "3.9.7"
  },
  "orig_nbformat": 4,
  "vscode": {
   "interpreter": {
    "hash": "0662d772e4d96da94963bb0c189860197b835c8b87df5ce7cbe7e7b0dcc989db"
   }
  }
 },
 "nbformat": 4,
 "nbformat_minor": 2
}
